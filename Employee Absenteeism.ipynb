{
 "cells": [
  {
   "cell_type": "markdown",
   "metadata": {},
   "source": [
    "XYZ is a courier company. As we appreciate that human capital plays an important role in collection, transportation and delivery. The company is passing through genuine issue of Absenteeism. The company has shared it dataset and requested to have an answer on the following areas: \n",
    "1. What changes company should bring to reduce the number of absenteeism? \n",
    "2. How much losses every month can we project in 2011 if same trend of absenteeism continues?\n",
    "\n"
   ]
  },
  {
   "cell_type": "code",
   "execution_count": 1,
   "metadata": {},
   "outputs": [
    {
     "name": "stderr",
     "output_type": "stream",
     "text": [
      "Using TensorFlow backend.\n"
     ]
    }
   ],
   "source": [
    "#Import libraries\n",
    "import os\n",
    "import pandas as pd\n",
    "import numpy as np\n",
    "from sklearn.metrics import r2_score\n",
    "from fancyimpute import KNN\n",
    "from sklearn.metrics import mean_squared_error\n",
    "\n",
    "\n"
   ]
  },
  {
   "cell_type": "code",
   "execution_count": 2,
   "metadata": {},
   "outputs": [],
   "source": [
    "#import libraries for plots\n",
    "import matplotlib.pyplot as plt\n",
    "import seaborn as sns\n",
    "%matplotlib inline"
   ]
  },
  {
   "cell_type": "code",
   "execution_count": 3,
   "metadata": {},
   "outputs": [],
   "source": [
    "# Setting working directory\n",
    "os.chdir(\"C:/Users/HP/Desktop/edwisor/Project 1\")\n",
    "\n",
    "\n",
    "# Loading data\n",
    "emp_df = pd.read_excel(\"Absenteeism_at_work_Project.xls\")"
   ]
  },
  {
   "cell_type": "markdown",
   "metadata": {},
   "source": [
    "Exploratory Data Analysis"
   ]
  },
  {
   "cell_type": "code",
   "execution_count": 4,
   "metadata": {},
   "outputs": [
    {
     "data": {
      "text/plain": [
       "ID                                   int64\n",
       "Reason for absence                 float64\n",
       "Month of absence                   float64\n",
       "Day of the week                      int64\n",
       "Seasons                              int64\n",
       "Transportation expense             float64\n",
       "Distance from Residence to Work    float64\n",
       "Service time                       float64\n",
       "Age                                float64\n",
       "Work load Average/day              float64\n",
       "Hit target                         float64\n",
       "Disciplinary failure               float64\n",
       "Education                          float64\n",
       "Son                                float64\n",
       "Social drinker                     float64\n",
       "Social smoker                      float64\n",
       "Pet                                float64\n",
       "Weight                             float64\n",
       "Height                             float64\n",
       "Body mass index                    float64\n",
       "Absenteeism time in hours          float64\n",
       "dtype: object"
      ]
     },
     "execution_count": 4,
     "metadata": {},
     "output_type": "execute_result"
    }
   ],
   "source": [
    "emp_df.dtypes"
   ]
  },
  {
   "cell_type": "code",
   "execution_count": 5,
   "metadata": {},
   "outputs": [
    {
     "data": {
      "text/html": [
       "<div>\n",
       "<style scoped>\n",
       "    .dataframe tbody tr th:only-of-type {\n",
       "        vertical-align: middle;\n",
       "    }\n",
       "\n",
       "    .dataframe tbody tr th {\n",
       "        vertical-align: top;\n",
       "    }\n",
       "\n",
       "    .dataframe thead th {\n",
       "        text-align: right;\n",
       "    }\n",
       "</style>\n",
       "<table border=\"1\" class=\"dataframe\">\n",
       "  <thead>\n",
       "    <tr style=\"text-align: right;\">\n",
       "      <th></th>\n",
       "      <th>ID</th>\n",
       "      <th>Reason for absence</th>\n",
       "      <th>Month of absence</th>\n",
       "      <th>Day of the week</th>\n",
       "      <th>Seasons</th>\n",
       "      <th>Transportation expense</th>\n",
       "      <th>Distance from Residence to Work</th>\n",
       "      <th>Service time</th>\n",
       "      <th>Age</th>\n",
       "      <th>Work load Average/day</th>\n",
       "      <th>...</th>\n",
       "      <th>Disciplinary failure</th>\n",
       "      <th>Education</th>\n",
       "      <th>Son</th>\n",
       "      <th>Social drinker</th>\n",
       "      <th>Social smoker</th>\n",
       "      <th>Pet</th>\n",
       "      <th>Weight</th>\n",
       "      <th>Height</th>\n",
       "      <th>Body mass index</th>\n",
       "      <th>Absenteeism time in hours</th>\n",
       "    </tr>\n",
       "  </thead>\n",
       "  <tbody>\n",
       "    <tr>\n",
       "      <th>0</th>\n",
       "      <td>11</td>\n",
       "      <td>26.0</td>\n",
       "      <td>7.0</td>\n",
       "      <td>3</td>\n",
       "      <td>1</td>\n",
       "      <td>289.0</td>\n",
       "      <td>36.0</td>\n",
       "      <td>13.0</td>\n",
       "      <td>33.0</td>\n",
       "      <td>239554.0</td>\n",
       "      <td>...</td>\n",
       "      <td>0.0</td>\n",
       "      <td>1.0</td>\n",
       "      <td>2.0</td>\n",
       "      <td>1.0</td>\n",
       "      <td>0.0</td>\n",
       "      <td>1.0</td>\n",
       "      <td>90.0</td>\n",
       "      <td>172.0</td>\n",
       "      <td>30.0</td>\n",
       "      <td>4.0</td>\n",
       "    </tr>\n",
       "    <tr>\n",
       "      <th>1</th>\n",
       "      <td>36</td>\n",
       "      <td>0.0</td>\n",
       "      <td>7.0</td>\n",
       "      <td>3</td>\n",
       "      <td>1</td>\n",
       "      <td>118.0</td>\n",
       "      <td>13.0</td>\n",
       "      <td>18.0</td>\n",
       "      <td>50.0</td>\n",
       "      <td>239554.0</td>\n",
       "      <td>...</td>\n",
       "      <td>1.0</td>\n",
       "      <td>1.0</td>\n",
       "      <td>1.0</td>\n",
       "      <td>1.0</td>\n",
       "      <td>0.0</td>\n",
       "      <td>0.0</td>\n",
       "      <td>98.0</td>\n",
       "      <td>178.0</td>\n",
       "      <td>31.0</td>\n",
       "      <td>0.0</td>\n",
       "    </tr>\n",
       "    <tr>\n",
       "      <th>2</th>\n",
       "      <td>3</td>\n",
       "      <td>23.0</td>\n",
       "      <td>7.0</td>\n",
       "      <td>4</td>\n",
       "      <td>1</td>\n",
       "      <td>179.0</td>\n",
       "      <td>51.0</td>\n",
       "      <td>18.0</td>\n",
       "      <td>38.0</td>\n",
       "      <td>239554.0</td>\n",
       "      <td>...</td>\n",
       "      <td>0.0</td>\n",
       "      <td>1.0</td>\n",
       "      <td>0.0</td>\n",
       "      <td>1.0</td>\n",
       "      <td>0.0</td>\n",
       "      <td>0.0</td>\n",
       "      <td>89.0</td>\n",
       "      <td>170.0</td>\n",
       "      <td>31.0</td>\n",
       "      <td>2.0</td>\n",
       "    </tr>\n",
       "    <tr>\n",
       "      <th>3</th>\n",
       "      <td>7</td>\n",
       "      <td>7.0</td>\n",
       "      <td>7.0</td>\n",
       "      <td>5</td>\n",
       "      <td>1</td>\n",
       "      <td>279.0</td>\n",
       "      <td>5.0</td>\n",
       "      <td>14.0</td>\n",
       "      <td>39.0</td>\n",
       "      <td>239554.0</td>\n",
       "      <td>...</td>\n",
       "      <td>0.0</td>\n",
       "      <td>1.0</td>\n",
       "      <td>2.0</td>\n",
       "      <td>1.0</td>\n",
       "      <td>1.0</td>\n",
       "      <td>0.0</td>\n",
       "      <td>68.0</td>\n",
       "      <td>168.0</td>\n",
       "      <td>24.0</td>\n",
       "      <td>4.0</td>\n",
       "    </tr>\n",
       "    <tr>\n",
       "      <th>4</th>\n",
       "      <td>11</td>\n",
       "      <td>23.0</td>\n",
       "      <td>7.0</td>\n",
       "      <td>5</td>\n",
       "      <td>1</td>\n",
       "      <td>289.0</td>\n",
       "      <td>36.0</td>\n",
       "      <td>13.0</td>\n",
       "      <td>33.0</td>\n",
       "      <td>239554.0</td>\n",
       "      <td>...</td>\n",
       "      <td>0.0</td>\n",
       "      <td>1.0</td>\n",
       "      <td>2.0</td>\n",
       "      <td>1.0</td>\n",
       "      <td>0.0</td>\n",
       "      <td>1.0</td>\n",
       "      <td>90.0</td>\n",
       "      <td>172.0</td>\n",
       "      <td>30.0</td>\n",
       "      <td>2.0</td>\n",
       "    </tr>\n",
       "  </tbody>\n",
       "</table>\n",
       "<p>5 rows × 21 columns</p>\n",
       "</div>"
      ],
      "text/plain": [
       "   ID  Reason for absence  Month of absence  Day of the week  Seasons  \\\n",
       "0  11                26.0               7.0                3        1   \n",
       "1  36                 0.0               7.0                3        1   \n",
       "2   3                23.0               7.0                4        1   \n",
       "3   7                 7.0               7.0                5        1   \n",
       "4  11                23.0               7.0                5        1   \n",
       "\n",
       "   Transportation expense  Distance from Residence to Work  Service time  \\\n",
       "0                   289.0                             36.0          13.0   \n",
       "1                   118.0                             13.0          18.0   \n",
       "2                   179.0                             51.0          18.0   \n",
       "3                   279.0                              5.0          14.0   \n",
       "4                   289.0                             36.0          13.0   \n",
       "\n",
       "    Age  Work load Average/day   ...  Disciplinary failure  Education  Son  \\\n",
       "0  33.0                239554.0  ...                   0.0        1.0  2.0   \n",
       "1  50.0                239554.0  ...                   1.0        1.0  1.0   \n",
       "2  38.0                239554.0  ...                   0.0        1.0  0.0   \n",
       "3  39.0                239554.0  ...                   0.0        1.0  2.0   \n",
       "4  33.0                239554.0  ...                   0.0        1.0  2.0   \n",
       "\n",
       "   Social drinker  Social smoker  Pet  Weight  Height  Body mass index  \\\n",
       "0             1.0            0.0  1.0    90.0   172.0             30.0   \n",
       "1             1.0            0.0  0.0    98.0   178.0             31.0   \n",
       "2             1.0            0.0  0.0    89.0   170.0             31.0   \n",
       "3             1.0            1.0  0.0    68.0   168.0             24.0   \n",
       "4             1.0            0.0  1.0    90.0   172.0             30.0   \n",
       "\n",
       "   Absenteeism time in hours  \n",
       "0                        4.0  \n",
       "1                        0.0  \n",
       "2                        2.0  \n",
       "3                        4.0  \n",
       "4                        2.0  \n",
       "\n",
       "[5 rows x 21 columns]"
      ]
     },
     "execution_count": 5,
     "metadata": {},
     "output_type": "execute_result"
    }
   ],
   "source": [
    "#first five rows\n",
    "emp_df.head(5)"
   ]
  },
  {
   "cell_type": "code",
   "execution_count": 6,
   "metadata": {},
   "outputs": [
    {
     "data": {
      "text/plain": [
       "(740, 21)"
      ]
     },
     "execution_count": 6,
     "metadata": {},
     "output_type": "execute_result"
    }
   ],
   "source": [
    "#Dimension\n",
    "emp_df.shape"
   ]
  },
  {
   "cell_type": "code",
   "execution_count": 7,
   "metadata": {},
   "outputs": [
    {
     "data": {
      "text/plain": [
       "ID                                 36\n",
       "Reason for absence                 28\n",
       "Month of absence                   13\n",
       "Day of the week                     5\n",
       "Seasons                             4\n",
       "Transportation expense             24\n",
       "Distance from Residence to Work    25\n",
       "Service time                       18\n",
       "Age                                22\n",
       "Work load Average/day              38\n",
       "Hit target                         13\n",
       "Disciplinary failure                2\n",
       "Education                           4\n",
       "Son                                 5\n",
       "Social drinker                      2\n",
       "Social smoker                       2\n",
       "Pet                                 6\n",
       "Weight                             26\n",
       "Height                             14\n",
       "Body mass index                    17\n",
       "Absenteeism time in hours          19\n",
       "dtype: int64"
      ]
     },
     "execution_count": 7,
     "metadata": {},
     "output_type": "execute_result"
    }
   ],
   "source": [
    "# Number of Unique values present in each variable\n",
    "emp_df.nunique()"
   ]
  },
  {
   "cell_type": "code",
   "execution_count": 8,
   "metadata": {},
   "outputs": [
    {
     "data": {
      "text/plain": [
       "Index(['ID', 'Reason for absence', 'Month of absence', 'Day of the week',\n",
       "       'Seasons', 'Transportation expense', 'Distance from Residence to Work',\n",
       "       'Service time', 'Age', 'Work load Average/day ', 'Hit target',\n",
       "       'Disciplinary failure', 'Education', 'Son', 'Social drinker',\n",
       "       'Social smoker', 'Pet', 'Weight', 'Height', 'Body mass index',\n",
       "       'Absenteeism time in hours'],\n",
       "      dtype='object')"
      ]
     },
     "execution_count": 8,
     "metadata": {},
     "output_type": "execute_result"
    }
   ],
   "source": [
    "emp_df.columns"
   ]
  },
  {
   "cell_type": "code",
   "execution_count": 9,
   "metadata": {},
   "outputs": [],
   "source": [
    "# From the EDA and problem statement file categorising the variables in two category \" Continuos\" and \"Categorical\"\n",
    "continuous_vars = ['Distance from Residence to Work', 'Service time', 'Age', 'Work load Average/day ', 'Transportation expense',\n",
    "       'Hit target', 'Weight', 'Height', 'Body mass index', 'Absenteeism time in hours']\n",
    "\n",
    "categorical_vars = ['ID','Reason for absence','Month of absence','Day of the week',\n",
    "                     'Seasons','Disciplinary failure', 'Education', 'Social drinker',\n",
    "                     'Social smoker', 'Pet', 'Son']"
   ]
  },
  {
   "cell_type": "code",
   "execution_count": 10,
   "metadata": {},
   "outputs": [],
   "source": [
    "#Make a copy of dataframe\n",
    "df_copy = emp_df.copy()"
   ]
  },
  {
   "cell_type": "markdown",
   "metadata": {},
   "source": [
    "Pre Processing"
   ]
  },
  {
   "cell_type": "code",
   "execution_count": 11,
   "metadata": {},
   "outputs": [
    {
     "data": {
      "text/html": [
       "<div>\n",
       "<style scoped>\n",
       "    .dataframe tbody tr th:only-of-type {\n",
       "        vertical-align: middle;\n",
       "    }\n",
       "\n",
       "    .dataframe tbody tr th {\n",
       "        vertical-align: top;\n",
       "    }\n",
       "\n",
       "    .dataframe thead th {\n",
       "        text-align: right;\n",
       "    }\n",
       "</style>\n",
       "<table border=\"1\" class=\"dataframe\">\n",
       "  <thead>\n",
       "    <tr style=\"text-align: right;\">\n",
       "      <th></th>\n",
       "      <th>Missing_percentage</th>\n",
       "    </tr>\n",
       "  </thead>\n",
       "  <tbody>\n",
       "    <tr>\n",
       "      <th>Body mass index</th>\n",
       "      <td>4.189189</td>\n",
       "    </tr>\n",
       "    <tr>\n",
       "      <th>Absenteeism time in hours</th>\n",
       "      <td>2.972973</td>\n",
       "    </tr>\n",
       "    <tr>\n",
       "      <th>Height</th>\n",
       "      <td>1.891892</td>\n",
       "    </tr>\n",
       "    <tr>\n",
       "      <th>Work load Average/day</th>\n",
       "      <td>1.351351</td>\n",
       "    </tr>\n",
       "    <tr>\n",
       "      <th>Education</th>\n",
       "      <td>1.351351</td>\n",
       "    </tr>\n",
       "    <tr>\n",
       "      <th>Transportation expense</th>\n",
       "      <td>0.945946</td>\n",
       "    </tr>\n",
       "    <tr>\n",
       "      <th>Son</th>\n",
       "      <td>0.810811</td>\n",
       "    </tr>\n",
       "    <tr>\n",
       "      <th>Disciplinary failure</th>\n",
       "      <td>0.810811</td>\n",
       "    </tr>\n",
       "    <tr>\n",
       "      <th>Hit target</th>\n",
       "      <td>0.810811</td>\n",
       "    </tr>\n",
       "    <tr>\n",
       "      <th>Social smoker</th>\n",
       "      <td>0.540541</td>\n",
       "    </tr>\n",
       "    <tr>\n",
       "      <th>Age</th>\n",
       "      <td>0.405405</td>\n",
       "    </tr>\n",
       "    <tr>\n",
       "      <th>Reason for absence</th>\n",
       "      <td>0.405405</td>\n",
       "    </tr>\n",
       "    <tr>\n",
       "      <th>Service time</th>\n",
       "      <td>0.405405</td>\n",
       "    </tr>\n",
       "    <tr>\n",
       "      <th>Distance from Residence to Work</th>\n",
       "      <td>0.405405</td>\n",
       "    </tr>\n",
       "    <tr>\n",
       "      <th>Social drinker</th>\n",
       "      <td>0.405405</td>\n",
       "    </tr>\n",
       "    <tr>\n",
       "      <th>Pet</th>\n",
       "      <td>0.270270</td>\n",
       "    </tr>\n",
       "    <tr>\n",
       "      <th>Weight</th>\n",
       "      <td>0.135135</td>\n",
       "    </tr>\n",
       "    <tr>\n",
       "      <th>Month of absence</th>\n",
       "      <td>0.135135</td>\n",
       "    </tr>\n",
       "    <tr>\n",
       "      <th>Seasons</th>\n",
       "      <td>0.000000</td>\n",
       "    </tr>\n",
       "    <tr>\n",
       "      <th>Day of the week</th>\n",
       "      <td>0.000000</td>\n",
       "    </tr>\n",
       "    <tr>\n",
       "      <th>ID</th>\n",
       "      <td>0.000000</td>\n",
       "    </tr>\n",
       "  </tbody>\n",
       "</table>\n",
       "</div>"
      ],
      "text/plain": [
       "                                 Missing_percentage\n",
       "Body mass index                            4.189189\n",
       "Absenteeism time in hours                  2.972973\n",
       "Height                                     1.891892\n",
       "Work load Average/day                      1.351351\n",
       "Education                                  1.351351\n",
       "Transportation expense                     0.945946\n",
       "Son                                        0.810811\n",
       "Disciplinary failure                       0.810811\n",
       "Hit target                                 0.810811\n",
       "Social smoker                              0.540541\n",
       "Age                                        0.405405\n",
       "Reason for absence                         0.405405\n",
       "Service time                               0.405405\n",
       "Distance from Residence to Work            0.405405\n",
       "Social drinker                             0.405405\n",
       "Pet                                        0.270270\n",
       "Weight                                     0.135135\n",
       "Month of absence                           0.135135\n",
       "Seasons                                    0.000000\n",
       "Day of the week                            0.000000\n",
       "ID                                         0.000000"
      ]
     },
     "execution_count": 11,
     "metadata": {},
     "output_type": "execute_result"
    }
   ],
   "source": [
    "# Missing value Analysis\n",
    "emp_df.isna().sum()\n",
    "Missing_Value = pd.DataFrame((emp_df.isna().sum()/len(emp_df)*100))\n",
    "Missing_Value.reset_index()\n",
    "Missing_Value = Missing_Value.rename(columns = {'index': 'Variables', 0: 'Missing_percentage'})\n",
    "#Arranging Missing Values in Decreasing Order\n",
    "Missing_Value = Missing_Value.sort_values('Missing_percentage', ascending = False)\n",
    "Missing_Value"
   ]
  },
  {
   "cell_type": "code",
   "execution_count": 12,
   "metadata": {},
   "outputs": [
    {
     "data": {
      "text/plain": [
       "<matplotlib.axes._subplots.AxesSubplot at 0x25b825e5908>"
      ]
     },
     "execution_count": 12,
     "metadata": {},
     "output_type": "execute_result"
    },
    {
     "data": {
      "image/png": "[encoded data removed]",
      "text/plain": [
       "<Figure size 1152x288 with 1 Axes>"
      ]
     },
     "metadata": {
      "needs_background": "light"
     },
     "output_type": "display_data"
    }
   ],
   "source": [
    "fig_size = plt.rcParams['figure.figsize']\n",
    "fig_size[0] = 16\n",
    "fig_size[1] = 4\n",
    "plt.rcParams['figure.figsize'] = fig_size\n",
    "sns.barplot(x=Missing_Value.index,y='Missing_percentage',data=Missing_Value)"
   ]
  },
  {
   "cell_type": "markdown",
   "metadata": {},
   "source": [
    "Using ID to impute Distance from Residence to Work"
   ]
  },
  {
   "cell_type": "code",
   "execution_count": 13,
   "metadata": {},
   "outputs": [
    {
     "name": "stdout",
     "output_type": "stream",
     "text": [
      "45    34\n",
      "65    22\n",
      "81    28\n",
      "Name: ID, dtype: int64\n"
     ]
    }
   ],
   "source": [
    "df = emp_df[emp_df['Distance from Residence to Work'].isna() == True]['ID']\n",
    "print(df)\n",
    "for i in df:\n",
    "    emp_df.loc[(emp_df['Distance from Residence to Work'].isnull()) & (emp_df['ID']==i),\\\n",
    "'Distance from Residence to Work'] = emp_df.loc[emp_df['ID']==i,'Distance from Residence to Work'].mean()"
   ]
  },
  {
   "cell_type": "markdown",
   "metadata": {},
   "source": [
    "Using ID to impute Transportation expense"
   ]
  },
  {
   "cell_type": "code",
   "execution_count": 14,
   "metadata": {},
   "outputs": [
    {
     "name": "stdout",
     "output_type": "stream",
     "text": [
      "6     10\n",
      "16     3\n",
      "32     1\n",
      "49    15\n",
      "50    20\n",
      "65    22\n",
      "79    20\n",
      "Name: ID, dtype: int64\n"
     ]
    }
   ],
   "source": [
    "df = emp_df[emp_df['Transportation expense'].isna() == True]['ID']\n",
    "print(df)\n",
    "for i in df:\n",
    "    emp_df.loc[(emp_df['Transportation expense'].isnull()) & (emp_df['ID']==i),\\\n",
    "'Transportation expense'] = emp_df.loc[emp_df['ID']==i,'Transportation expense'].mean()"
   ]
  },
  {
   "cell_type": "markdown",
   "metadata": {},
   "source": [
    "Using ID to impute Service time"
   ]
  },
  {
   "cell_type": "code",
   "execution_count": 15,
   "metadata": {},
   "outputs": [
    {
     "name": "stdout",
     "output_type": "stream",
     "text": [
      "106    28\n",
      "115    34\n",
      "131    34\n",
      "Name: ID, dtype: int64\n"
     ]
    }
   ],
   "source": [
    "df = emp_df[emp_df['Service time'].isna() == True]['ID']\n",
    "print(df)\n",
    "for i in df:\n",
    "    emp_df.loc[(emp_df['Service time'].isnull()) & (emp_df['ID']==i),\\\n",
    "'Service time'] = emp_df.loc[emp_df['ID']==i,'Service time'].mean()"
   ]
  },
  {
   "cell_type": "markdown",
   "metadata": {},
   "source": [
    "Using ID to impute Age"
   ]
  },
  {
   "cell_type": "code",
   "execution_count": 16,
   "metadata": {},
   "outputs": [
    {
     "name": "stdout",
     "output_type": "stream",
     "text": [
      "112    28\n",
      "220    24\n",
      "224    24\n",
      "Name: ID, dtype: int64\n"
     ]
    }
   ],
   "source": [
    "df = emp_df[emp_df['Age'].isna() == True]['ID']\n",
    "print(df)\n",
    "for i in df:\n",
    "    emp_df.loc[(emp_df['Age'].isnull()) & (emp_df['ID']==i),\\\n",
    "'Age'] = emp_df.loc[emp_df['ID']==i,'Age'].mean()"
   ]
  },
  {
   "cell_type": "markdown",
   "metadata": {},
   "source": [
    "Using ID to impute Education"
   ]
  },
  {
   "cell_type": "code",
   "execution_count": 17,
   "metadata": {},
   "outputs": [
    {
     "name": "stdout",
     "output_type": "stream",
     "text": [
      "77     11\n",
      "109    10\n",
      "110    34\n",
      "115    34\n",
      "116    14\n",
      "127    34\n",
      "128    34\n",
      "131    34\n",
      "268    10\n",
      "274    24\n",
      "Name: ID, dtype: int64\n"
     ]
    }
   ],
   "source": [
    "df = emp_df[emp_df['Education'].isna() == True]['ID']\n",
    "print(df)\n",
    "for i in df:\n",
    "    emp_df.loc[(emp_df['Education'].isnull()) & (emp_df['ID']==i),\\\n",
    "'Education'] = emp_df.loc[emp_df['ID']==i,'Education'].mean()"
   ]
  },
  {
   "cell_type": "markdown",
   "metadata": {},
   "source": [
    "Using ID to impute  Son"
   ]
  },
  {
   "cell_type": "code",
   "execution_count": 18,
   "metadata": {},
   "outputs": [
    {
     "name": "stdout",
     "output_type": "stream",
     "text": [
      "79     20\n",
      "85     14\n",
      "125    34\n",
      "131    34\n",
      "137    27\n",
      "350     1\n",
      "Name: ID, dtype: int64\n"
     ]
    }
   ],
   "source": [
    "df = emp_df[emp_df['Son'].isna() == True]['ID']\n",
    "print(df)\n",
    "for i in df:\n",
    "    emp_df.loc[(emp_df['Son'].isnull()) & (emp_df['ID']==i),\\\n",
    "'Son'] = emp_df.loc[emp_df['ID']==i,'Son'].mean()"
   ]
  },
  {
   "cell_type": "markdown",
   "metadata": {},
   "source": [
    "Using ID to impute Social drinker"
   ]
  },
  {
   "cell_type": "code",
   "execution_count": 19,
   "metadata": {},
   "outputs": [
    {
     "name": "stdout",
     "output_type": "stream",
     "text": [
      "78    10\n",
      "85    14\n",
      "91    17\n",
      "Name: ID, dtype: int64\n"
     ]
    }
   ],
   "source": [
    "df = emp_df[emp_df['Social drinker'].isna() == True]['ID']\n",
    "print(df)\n",
    "for i in df:\n",
    "    emp_df.loc[(emp_df['Social drinker'].isnull()) & (emp_df['ID']==i),\\\n",
    "'Social drinker'] = emp_df.loc[emp_df['ID']==i,'Social drinker'].mean()"
   ]
  },
  {
   "cell_type": "markdown",
   "metadata": {},
   "source": [
    "Using ID to impute Social smoker"
   ]
  },
  {
   "cell_type": "code",
   "execution_count": 20,
   "metadata": {},
   "outputs": [
    {
     "name": "stdout",
     "output_type": "stream",
     "text": [
      "114    34\n",
      "267     1\n",
      "272    11\n",
      "275    15\n",
      "Name: ID, dtype: int64\n"
     ]
    }
   ],
   "source": [
    "df = emp_df[emp_df['Social smoker'].isna() == True]['ID']\n",
    "print(df)\n",
    "for i in df:\n",
    "    emp_df.loc[(emp_df['Social smoker'].isnull()) & (emp_df['ID']==i),\\\n",
    "'Social smoker'] = emp_df.loc[emp_df['ID']==i,'Social smoker'].mean()"
   ]
  },
  {
   "cell_type": "markdown",
   "metadata": {},
   "source": [
    "Using ID to impute Pet"
   ]
  },
  {
   "cell_type": "code",
   "execution_count": 21,
   "metadata": {},
   "outputs": [
    {
     "name": "stdout",
     "output_type": "stream",
     "text": [
      "267     1\n",
      "517    13\n",
      "Name: ID, dtype: int64\n"
     ]
    }
   ],
   "source": [
    "df = emp_df[emp_df['Pet'].isna() == True]['ID']\n",
    "print(df)\n",
    "for i in df:\n",
    "    emp_df.loc[(emp_df['Pet'].isnull()) & (emp_df['ID']==i),\\\n",
    "'Pet'] = emp_df.loc[emp_df['ID']==i,'Pet'].mean()"
   ]
  },
  {
   "cell_type": "markdown",
   "metadata": {},
   "source": [
    "Using ID to impute Weight"
   ]
  },
  {
   "cell_type": "code",
   "execution_count": 22,
   "metadata": {},
   "outputs": [
    {
     "name": "stdout",
     "output_type": "stream",
     "text": [
      "118    27\n",
      "Name: ID, dtype: int64\n"
     ]
    }
   ],
   "source": [
    "df = emp_df[emp_df['Weight'].isna() == True]['ID']\n",
    "print(df)\n",
    "for i in df:\n",
    "    emp_df.loc[(emp_df['Weight'].isnull()) & (emp_df['ID']==i),\\\n",
    "'Weight'] = emp_df.loc[emp_df['ID']==i,'Weight'].mean()"
   ]
  },
  {
   "cell_type": "markdown",
   "metadata": {},
   "source": [
    "Using ID to impute Height"
   ]
  },
  {
   "cell_type": "code",
   "execution_count": 23,
   "metadata": {},
   "outputs": [
    {
     "name": "stdout",
     "output_type": "stream",
     "text": [
      "74     20\n",
      "109    10\n",
      "113    28\n",
      "114    34\n",
      "131    34\n",
      "132    27\n",
      "268    10\n",
      "272    11\n",
      "273     5\n",
      "504    22\n",
      "505    13\n",
      "509    24\n",
      "510    32\n",
      "518    28\n",
      "Name: ID, dtype: int64\n"
     ]
    }
   ],
   "source": [
    "df = emp_df[emp_df['Height'].isna() == True]['ID']\n",
    "print(df)\n",
    "for i in df:\n",
    "    emp_df.loc[(emp_df['Height'].isnull()) & (emp_df['ID']==i),\\\n",
    "'Height'] = emp_df.loc[emp_df['ID']==i,'Height'].mean()\n",
    "    \n",
    "   "
   ]
  },
  {
   "cell_type": "markdown",
   "metadata": {},
   "source": [
    "Using ID to impute Body mass index"
   ]
  },
  {
   "cell_type": "code",
   "execution_count": 24,
   "metadata": {},
   "outputs": [
    {
     "name": "stdout",
     "output_type": "stream",
     "text": [
      "14      3\n",
      "15     24\n",
      "24     11\n",
      "27     30\n",
      "31      2\n",
      "37     19\n",
      "41     34\n",
      "42      3\n",
      "52     28\n",
      "53     34\n",
      "56     28\n",
      "57      3\n",
      "58     13\n",
      "64     36\n",
      "77     11\n",
      "89     14\n",
      "99     34\n",
      "100    36\n",
      "106    28\n",
      "107    20\n",
      "108    28\n",
      "146    28\n",
      "152    18\n",
      "153    28\n",
      "158    17\n",
      "159    15\n",
      "160    20\n",
      "161    22\n",
      "220    24\n",
      "272    11\n",
      "273     5\n",
      "Name: ID, dtype: int64\n"
     ]
    }
   ],
   "source": [
    "df = emp_df[emp_df['Body mass index'].isna() == True]['ID']\n",
    "print(df)\n",
    "for i in df:\n",
    "    emp_df.loc[(emp_df['Body mass index'].isnull()) & (emp_df['ID']==i),\\\n",
    "'Body mass index'] = emp_df.loc[emp_df['ID']==i,'Body mass index'].mean()"
   ]
  },
  {
   "cell_type": "code",
   "execution_count": 25,
   "metadata": {},
   "outputs": [
    {
     "data": {
      "text/plain": [
       "ID                                  0\n",
       "Reason for absence                  3\n",
       "Month of absence                    1\n",
       "Day of the week                     0\n",
       "Seasons                             0\n",
       "Transportation expense              0\n",
       "Distance from Residence to Work     0\n",
       "Service time                        0\n",
       "Age                                 0\n",
       "Work load Average/day              10\n",
       "Hit target                          6\n",
       "Disciplinary failure                6\n",
       "Education                           0\n",
       "Son                                 0\n",
       "Social drinker                      0\n",
       "Social smoker                       0\n",
       "Pet                                 0\n",
       "Weight                              0\n",
       "Height                              0\n",
       "Body mass index                     0\n",
       "Absenteeism time in hours          22\n",
       "dtype: int64"
      ]
     },
     "execution_count": 25,
     "metadata": {},
     "output_type": "execute_result"
    }
   ],
   "source": [
    "emp_df.isna().sum()"
   ]
  },
  {
   "cell_type": "markdown",
   "metadata": {},
   "source": [
    "For other variables, we can impute missing variables through mean, median or KNN imputation. We need to select the best method."
   ]
  },
  {
   "cell_type": "code",
   "execution_count": 26,
   "metadata": {},
   "outputs": [
    {
     "name": "stdout",
     "output_type": "stream",
     "text": [
      "1.0\n"
     ]
    },
    {
     "name": "stderr",
     "output_type": "stream",
     "text": [
      "C:\\Users\\tanis\\AnacondaNew\\lib\\site-packages\\pandas\\core\\indexing.py:190: SettingWithCopyWarning: \n",
      "A value is trying to be set on a copy of a slice from a DataFrame\n",
      "\n",
      "See the caveats in the documentation: http://pandas.pydata.org/pandas-docs/stable/indexing.html#indexing-view-versus-copy\n",
      "  self._setitem_with_indexer(indexer, value)\n"
     ]
    }
   ],
   "source": [
    "#Actual value = 1\n",
    "#Mean = 19.183423913043477\n",
    "#Median = 23  \n",
    "#KNN = 3.4878048780487805\n",
    "print(emp_df['Reason for absence'].iloc[10])\n",
    "\n",
    "#Set the value of first row in Reason for absence as NAN\n",
    "#create missing value\n",
    "emp_df['Reason for absence'].iloc[10] = np.nan"
   ]
  },
  {
   "cell_type": "code",
   "execution_count": 27,
   "metadata": {},
   "outputs": [
    {
     "name": "stdout",
     "output_type": "stream",
     "text": [
      "Imputing row 1/740 with 0 missing, elapsed time: 0.154\n",
      "Imputing row 101/740 with 0 missing, elapsed time: 0.157\n",
      "Imputing row 201/740 with 0 missing, elapsed time: 0.158\n",
      "Imputing row 301/740 with 0 missing, elapsed time: 0.160\n",
      "Imputing row 401/740 with 0 missing, elapsed time: 0.161\n",
      "Imputing row 501/740 with 0 missing, elapsed time: 0.162\n",
      "Imputing row 601/740 with 0 missing, elapsed time: 0.164\n",
      "Imputing row 701/740 with 0 missing, elapsed time: 0.165\n"
     ]
    },
    {
     "data": {
      "text/plain": [
       "3.4878048780487805"
      ]
     },
     "execution_count": 27,
     "metadata": {},
     "output_type": "execute_result"
    }
   ],
   "source": [
    "#Impute with mean\n",
    "#emp_df['Reason for absence'] = emp_df['Reason for absence'].fillna(emp_df['Reason for absence'].mean())\n",
    "\n",
    "#Impute with median\n",
    "#emp_df['Reason for absence'].iloc[7] = np.nan\n",
    "#emp_df['Reason for absence'] = emp_df['Reason for absence'].fillna(emp_df['Reason for absence'].median())\n",
    "\n",
    "#Apply KNN imputation algorithm\n",
    "emp_df = pd.DataFrame(KNN(k = 3).fit_transform(emp_df), columns = emp_df.columns)\n",
    "emp_df['Reason for absence'].iloc[10]"
   ]
  },
  {
   "cell_type": "markdown",
   "metadata": {},
   "source": [
    "So KNN is the best method to impute mising values"
   ]
  },
  {
   "cell_type": "code",
   "execution_count": 28,
   "metadata": {},
   "outputs": [
    {
     "data": {
      "text/plain": [
       "ID                                 0\n",
       "Reason for absence                 0\n",
       "Month of absence                   0\n",
       "Day of the week                    0\n",
       "Seasons                            0\n",
       "Transportation expense             0\n",
       "Distance from Residence to Work    0\n",
       "Service time                       0\n",
       "Age                                0\n",
       "Work load Average/day              0\n",
       "Hit target                         0\n",
       "Disciplinary failure               0\n",
       "Education                          0\n",
       "Son                                0\n",
       "Social drinker                     0\n",
       "Social smoker                      0\n",
       "Pet                                0\n",
       "Weight                             0\n",
       "Height                             0\n",
       "Body mass index                    0\n",
       "Absenteeism time in hours          0\n",
       "dtype: int64"
      ]
     },
     "execution_count": 28,
     "metadata": {},
     "output_type": "execute_result"
    }
   ],
   "source": [
    "emp_df.isna().sum()"
   ]
  },
  {
   "cell_type": "markdown",
   "metadata": {},
   "source": [
    "Data Conversion"
   ]
  },
  {
   "cell_type": "code",
   "execution_count": 29,
   "metadata": {},
   "outputs": [],
   "source": [
    "#converting appropriate categorical variable into actual categorical variable \n",
    "\n",
    "emp_df['ID']=emp_df['ID'].astype('category')\n",
    "emp_df['Reason for absence']=emp_df['Reason for absence'].astype('category')\n",
    "emp_df['Month of absence']=emp_df['Month of absence'].astype('category')\n",
    "emp_df['Day of the week']=emp_df['Day of the week'].astype('category')\n",
    "emp_df['Seasons']=emp_df['Seasons'].astype('category')\n",
    "emp_df['Disciplinary failure']=emp_df['Disciplinary failure'].astype('category')\n",
    "emp_df['Education']=emp_df['Education'].astype('category')\n",
    "emp_df['Son']=emp_df['Son'].astype('category')\n",
    "emp_df['Social drinker']=emp_df['Social drinker'].astype('category')\n",
    "emp_df['Social smoker']=emp_df['Social smoker'].astype('category')\n",
    "emp_df['Pet']=emp_df['Pet'].astype('category')"
   ]
  },
  {
   "cell_type": "code",
   "execution_count": 30,
   "metadata": {},
   "outputs": [
    {
     "data": {
      "text/plain": [
       "ID                                 category\n",
       "Reason for absence                 category\n",
       "Month of absence                   category\n",
       "Day of the week                    category\n",
       "Seasons                            category\n",
       "Transportation expense              float64\n",
       "Distance from Residence to Work     float64\n",
       "Service time                        float64\n",
       "Age                                 float64\n",
       "Work load Average/day               float64\n",
       "Hit target                          float64\n",
       "Disciplinary failure               category\n",
       "Education                          category\n",
       "Son                                category\n",
       "Social drinker                     category\n",
       "Social smoker                      category\n",
       "Pet                                category\n",
       "Weight                              float64\n",
       "Height                              float64\n",
       "Body mass index                     float64\n",
       "Absenteeism time in hours           float64\n",
       "dtype: object"
      ]
     },
     "execution_count": 30,
     "metadata": {},
     "output_type": "execute_result"
    }
   ],
   "source": [
    "emp_df.dtypes"
   ]
  },
  {
   "cell_type": "markdown",
   "metadata": {},
   "source": [
    "Univarant and Bivariant"
   ]
  },
  {
   "cell_type": "code",
   "execution_count": 31,
   "metadata": {},
   "outputs": [
    {
     "data": {
      "image/png": "[encoded data removed]",
      "text/plain": [
       "<Figure size 1152x288 with 1 Axes>"
      ]
     },
     "metadata": {
      "needs_background": "light"
     },
     "output_type": "display_data"
    }
   ],
   "source": [
    "#Check whether target variable is normal or not\n",
    "sns.distplot(emp_df['Absenteeism time in hours']);"
   ]
  },
  {
   "cell_type": "code",
   "execution_count": 32,
   "metadata": {},
   "outputs": [
    {
     "name": "stdout",
     "output_type": "stream",
     "text": [
      "Skewness: 5.696584\n",
      "Kurtosis: 38.569771\n"
     ]
    }
   ],
   "source": [
    "print(\"Skewness: %f\" % emp_df['Absenteeism time in hours'].skew())\n",
    "print(\"Kurtosis: %f\" % emp_df['Absenteeism time in hours'].kurt())"
   ]
  },
  {
   "cell_type": "code",
   "execution_count": 33,
   "metadata": {},
   "outputs": [
    {
     "name": "stderr",
     "output_type": "stream",
     "text": [
      "C:\\Users\\tanis\\AnacondaNew\\lib\\site-packages\\seaborn\\categorical.py:3666: UserWarning: The `factorplot` function has been renamed to `catplot`. The original name will be removed in a future release. Please update your code. Note that the default `kind` in `factorplot` (`'point'`) has changed `'strip'` in `catplot`.\n",
      "  warnings.warn(msg)\n"
     ]
    },
    {
     "data": {
      "text/plain": [
       "<seaborn.axisgrid.FacetGrid at 0x25b82adc748>"
      ]
     },
     "execution_count": 33,
     "metadata": {},
     "output_type": "execute_result"
    },
    {
     "data": {
      "image/png": "[encoded data removed]",
      "text/plain": [
       "<Figure size 864x540 with 1 Axes>"
      ]
     },
     "metadata": {
      "needs_background": "light"
     },
     "output_type": "display_data"
    }
   ],
   "source": [
    "#Reason for absence VS Absenteeism time in hours\n",
    "sns.factorplot(x='Reason for absence', y=\"Absenteeism time in hours\", kind= 'bar',data=emp_df,height=7.5,aspect=12/7.5,estimator=np.sum)"
   ]
  },
  {
   "cell_type": "markdown",
   "metadata": {},
   "source": [
    "Seasons VS Absenteeism with hue = 'Day of the Week'"
   ]
  },
  {
   "cell_type": "code",
   "execution_count": 34,
   "metadata": {},
   "outputs": [
    {
     "data": {
      "text/plain": [
       "<matplotlib.axes._subplots.AxesSubplot at 0x25b82aba748>"
      ]
     },
     "execution_count": 34,
     "metadata": {},
     "output_type": "execute_result"
    },
    {
     "data": {
      "image/png": "[encoded data removed]",
      "text/plain": [
       "<Figure size 1152x288 with 1 Axes>"
      ]
     },
     "metadata": {
      "needs_background": "light"
     },
     "output_type": "display_data"
    }
   ],
   "source": [
    "sns.barplot(x='Seasons',y='Absenteeism time in hours',data=emp_df,hue = 'Day of the week')"
   ]
  },
  {
   "cell_type": "markdown",
   "metadata": {},
   "source": [
    "Disciplinary Failure VS Absenteesim time in hours"
   ]
  },
  {
   "cell_type": "code",
   "execution_count": 35,
   "metadata": {},
   "outputs": [
    {
     "name": "stderr",
     "output_type": "stream",
     "text": [
      "C:\\Users\\tanis\\AnacondaNew\\lib\\site-packages\\seaborn\\categorical.py:3666: UserWarning: The `factorplot` function has been renamed to `catplot`. The original name will be removed in a future release. Please update your code. Note that the default `kind` in `factorplot` (`'point'`) has changed `'strip'` in `catplot`.\n",
      "  warnings.warn(msg)\n"
     ]
    },
    {
     "data": {
      "text/plain": [
       "<seaborn.axisgrid.FacetGrid at 0x25b82dae3c8>"
      ]
     },
     "execution_count": 35,
     "metadata": {},
     "output_type": "execute_result"
    },
    {
     "data": {
      "image/png": "[encoded data removed]",
      "text/plain": [
       "<Figure size 576x360 with 1 Axes>"
      ]
     },
     "metadata": {
      "needs_background": "light"
     },
     "output_type": "display_data"
    }
   ],
   "source": [
    "sns.factorplot(x='Disciplinary failure', y=\"Absenteeism time in hours\", kind= 'bar',data=emp_df,height=5,aspect=12/7.5,estimator=np.sum)"
   ]
  },
  {
   "cell_type": "markdown",
   "metadata": {},
   "source": [
    "Education VS Absenteesim time in hours"
   ]
  },
  {
   "cell_type": "code",
   "execution_count": 36,
   "metadata": {},
   "outputs": [
    {
     "name": "stderr",
     "output_type": "stream",
     "text": [
      "C:\\Users\\tanis\\AnacondaNew\\lib\\site-packages\\seaborn\\categorical.py:3666: UserWarning: The `factorplot` function has been renamed to `catplot`. The original name will be removed in a future release. Please update your code. Note that the default `kind` in `factorplot` (`'point'`) has changed `'strip'` in `catplot`.\n",
      "  warnings.warn(msg)\n"
     ]
    },
    {
     "data": {
      "text/plain": [
       "<seaborn.axisgrid.FacetGrid at 0x25b82ca37f0>"
      ]
     },
     "execution_count": 36,
     "metadata": {},
     "output_type": "execute_result"
    },
    {
     "data": {
      "image/png": "[encoded data removed]",
      "text/plain": [
       "<Figure size 576x360 with 1 Axes>"
      ]
     },
     "metadata": {
      "needs_background": "light"
     },
     "output_type": "display_data"
    }
   ],
   "source": [
    "sns.factorplot(x='Education', y=\"Absenteeism time in hours\", kind= 'bar',data=emp_df,height=5,aspect=12/7.5,estimator=np.sum)"
   ]
  },
  {
   "cell_type": "markdown",
   "metadata": {},
   "source": [
    "Hit Target VS Absenteeism time in hours"
   ]
  },
  {
   "cell_type": "code",
   "execution_count": 37,
   "metadata": {},
   "outputs": [
    {
     "data": {
      "text/plain": [
       "<matplotlib.axes._subplots.AxesSubplot at 0x25b82daeda0>"
      ]
     },
     "execution_count": 37,
     "metadata": {},
     "output_type": "execute_result"
    },
    {
     "data": {
      "image/png": "[encoded data removed]",
      "text/plain": [
       "<Figure size 1152x288 with 1 Axes>"
      ]
     },
     "metadata": {
      "needs_background": "light"
     },
     "output_type": "display_data"
    }
   ],
   "source": [
    "sns.barplot(x='Hit target',y='Absenteeism time in hours',data=emp_df)"
   ]
  },
  {
   "cell_type": "code",
   "execution_count": 38,
   "metadata": {},
   "outputs": [],
   "source": [
    "#fig_size = plt.rcParams['figure.figsize']\n",
    "#fig_size[0] = 11\n",
    "#fig_size[1] = 5\n",
    "#plt.rcParams['figure.figsize'] = fig_size"
   ]
  },
  {
   "cell_type": "code",
   "execution_count": 39,
   "metadata": {},
   "outputs": [],
   "source": [
    "#Loss per month\n",
    "#sum = list(emp_df.groupby(['Month of absence'])['Absenteeism time in hours'].agg('sum'))\n",
    "#del sum[0]\n",
    "#del sum[9]\n",
    "#sum\n",
    "#month = list(range(1,13))\n",
    "#month\n",
    "#loss_df=pd.DataFrame({'Month':month,'Loss':sum})\n",
    "#loss_df\n",
    "#sns.barplot(x='Month',y='Loss',data=loss_df)"
   ]
  },
  {
   "cell_type": "code",
   "execution_count": 40,
   "metadata": {},
   "outputs": [],
   "source": [
    "fig_size = plt.rcParams['figure.figsize']\n",
    "fig_size[0] = 25\n",
    "fig_size[1] = 20\n",
    "plt.rcParams['figure.figsize'] = fig_size"
   ]
  },
  {
   "cell_type": "markdown",
   "metadata": {},
   "source": [
    "Outliers Analysis"
   ]
  },
  {
   "cell_type": "code",
   "execution_count": 41,
   "metadata": {},
   "outputs": [
    {
     "data": {
      "image/png": "[encoded data removed]",
      "text/plain": [
       "<Figure size 1800x1440 with 10 Axes>"
      ]
     },
     "metadata": {
      "needs_background": "light"
     },
     "output_type": "display_data"
    }
   ],
   "source": [
    "######################################### Outlier Analysis ####################################################\n",
    "\n",
    "plt.subplot(4,3,1)\n",
    "plt.boxplot(emp_df['Transportation expense'])\n",
    "plt.title('Transportation expense')\n",
    "\n",
    "plt.subplot(4,3,2)\n",
    "plt.boxplot(emp_df['Distance from Residence to Work'])\n",
    "plt.title('Distance from Residence to Work')\n",
    "\n",
    "plt.subplot(4,3,3)\n",
    "plt.boxplot(emp_df['Service time'])\n",
    "plt.title('Service time')\n",
    "\n",
    "plt.subplot(4,3,4)\n",
    "plt.boxplot(emp_df['Age'])\n",
    "plt.title('Age')\n",
    "\n",
    "plt.subplot(4,3,5)\n",
    "plt.boxplot(emp_df['Work load Average/day '])\n",
    "plt.title('Work load Average/day ')\n",
    "\n",
    "plt.subplot(4,3,6)\n",
    "plt.boxplot(emp_df['Hit target'])\n",
    "plt.title('Hit target')\n",
    "\n",
    "plt.subplot(4,3,7)\n",
    "plt.boxplot(emp_df['Weight'])\n",
    "plt.title('Weight')\n",
    "\n",
    "plt.subplot(4,3,8)\n",
    "plt.boxplot(emp_df['Height'])\n",
    "plt.title('Height')\n",
    "\n",
    "plt.subplot(4,3,9)\n",
    "plt.boxplot(emp_df['Body mass index'])\n",
    "plt.title('Body mass index')\n",
    "\n",
    "plt.subplot(4,3,10)\n",
    "plt.boxplot(emp_df['Absenteeism time in hours'])\n",
    "plt.title('Absenteeism time in hours')\n",
    "\n",
    "plt.tight_layout()\n",
    "#We have outlerss in most of the variables"
   ]
  },
  {
   "cell_type": "code",
   "execution_count": 42,
   "metadata": {},
   "outputs": [
    {
     "name": "stdout",
     "output_type": "stream",
     "text": [
      "Transportation expense\n",
      "Distance from Residence to Work\n",
      "Service time\n",
      "Age\n",
      "Work load Average/day \n",
      "Hit target\n",
      "Weight\n",
      "Height\n",
      "Body mass index\n",
      "Absenteeism time in hours\n"
     ]
    }
   ],
   "source": [
    "#Deleting Outliers\n",
    "cname = ['Transportation expense','Distance from Residence to Work', 'Service time','Age','Work load Average/day ','Hit target','Weight','Height','Body mass index','Absenteeism time in hours']\n",
    "numeric_data = emp_df[cname]\n",
    "         \n",
    "for i in cname:\n",
    "    print(i)\n",
    "    q75, q25 = np.percentile(emp_df.loc[:,i],[75,25])\n",
    "    iqr = q75- q25\n",
    "    min = q25 - (1.5*iqr)\n",
    "    max = q75 + (1.5*iqr)\n",
    "    \n",
    "    emp_df.loc[emp_df.loc[:,i] < min , i] = np.nan\n",
    "    emp_df.loc[emp_df.loc[:,i] > max , i] = np.nan   \n",
    "    \n"
   ]
  },
  {
   "cell_type": "code",
   "execution_count": 43,
   "metadata": {},
   "outputs": [
    {
     "data": {
      "text/plain": [
       "ID                                   0\n",
       "Reason for absence                   0\n",
       "Month of absence                     0\n",
       "Day of the week                      0\n",
       "Seasons                              0\n",
       "Transportation expense               3\n",
       "Distance from Residence to Work      0\n",
       "Service time                         5\n",
       "Age                                  8\n",
       "Work load Average/day               31\n",
       "Hit target                          19\n",
       "Disciplinary failure                 0\n",
       "Education                            0\n",
       "Son                                  0\n",
       "Social drinker                       0\n",
       "Social smoker                        0\n",
       "Pet                                  0\n",
       "Weight                               0\n",
       "Height                             119\n",
       "Body mass index                      0\n",
       "Absenteeism time in hours           48\n",
       "dtype: int64"
      ]
     },
     "execution_count": 43,
     "metadata": {},
     "output_type": "execute_result"
    }
   ],
   "source": [
    "pd.isnull(emp_df).sum() #after deletion we have 233 Missing values"
   ]
  },
  {
   "cell_type": "markdown",
   "metadata": {},
   "source": [
    "Impute missing value through KNN imputation"
   ]
  },
  {
   "cell_type": "code",
   "execution_count": 44,
   "metadata": {},
   "outputs": [
    {
     "name": "stdout",
     "output_type": "stream",
     "text": [
      "Imputing row 1/740 with 0 missing, elapsed time: 0.142\n",
      "Imputing row 101/740 with 1 missing, elapsed time: 0.144\n",
      "Imputing row 201/740 with 0 missing, elapsed time: 0.145\n",
      "Imputing row 301/740 with 0 missing, elapsed time: 0.147\n",
      "Imputing row 401/740 with 0 missing, elapsed time: 0.148\n",
      "Imputing row 501/740 with 0 missing, elapsed time: 0.149\n",
      "Imputing row 601/740 with 0 missing, elapsed time: 0.149\n",
      "Imputing row 701/740 with 0 missing, elapsed time: 0.151\n"
     ]
    }
   ],
   "source": [
    "#Apply KNN imputation algorithm\n",
    "emp_df = pd.DataFrame(KNN(k = 3).fit_transform(emp_df), columns = emp_df.columns)"
   ]
  },
  {
   "cell_type": "code",
   "execution_count": 45,
   "metadata": {},
   "outputs": [
    {
     "data": {
      "text/plain": [
       "ID                                 0\n",
       "Reason for absence                 0\n",
       "Month of absence                   0\n",
       "Day of the week                    0\n",
       "Seasons                            0\n",
       "Transportation expense             0\n",
       "Distance from Residence to Work    0\n",
       "Service time                       0\n",
       "Age                                0\n",
       "Work load Average/day              0\n",
       "Hit target                         0\n",
       "Disciplinary failure               0\n",
       "Education                          0\n",
       "Son                                0\n",
       "Social drinker                     0\n",
       "Social smoker                      0\n",
       "Pet                                0\n",
       "Weight                             0\n",
       "Height                             0\n",
       "Body mass index                    0\n",
       "Absenteeism time in hours          0\n",
       "dtype: int64"
      ]
     },
     "execution_count": 45,
     "metadata": {},
     "output_type": "execute_result"
    }
   ],
   "source": [
    "pd.isnull(emp_df).sum()"
   ]
  },
  {
   "cell_type": "markdown",
   "metadata": {},
   "source": [
    "Feature Selection"
   ]
  },
  {
   "cell_type": "code",
   "execution_count": 46,
   "metadata": {},
   "outputs": [],
   "source": [
    "emp_df.to_excel(\"new_employee.xlsx\",index=False)\n",
    "\n",
    "#correlation graph for continous variables\n",
    "#Get dataframe with all continuous variables\n",
    "df_corr = emp_df.loc[:,continuous_vars]"
   ]
  },
  {
   "cell_type": "code",
   "execution_count": 47,
   "metadata": {},
   "outputs": [
    {
     "data": {
      "text/plain": [
       "[]"
      ]
     },
     "execution_count": 47,
     "metadata": {},
     "output_type": "execute_result"
    },
    {
     "data": {
      "image/png": "[encoded data removed]",
      "text/plain": [
       "<Figure size 720x720 with 2 Axes>"
      ]
     },
     "metadata": {
      "needs_background": "light"
     },
     "output_type": "display_data"
    }
   ],
   "source": [
    "#Check for multicollinearity using corelation graph\n",
    "#Set the width and hieght of the plot\n",
    "f, ax = plt.subplots(figsize=(10, 10))\n",
    "\n",
    "#Generate correlation matrix\n",
    "corr = df_corr.corr()\n",
    "\n",
    "#Plot using seaborn library\n",
    "sns.heatmap(corr, mask=np.zeros_like(corr, dtype=np.bool), \n",
    "            cmap=sns.diverging_palette(220, 50, as_cmap=True),\n",
    "            square=True, ax=ax, annot = True)\n",
    "plt.plot()"
   ]
  },
  {
   "cell_type": "code",
   "execution_count": 48,
   "metadata": {},
   "outputs": [],
   "source": [
    "#Variable Reduction\n",
    "to_drop = ['Body mass index','Service time']\n",
    "emp_df = emp_df.drop(to_drop, axis = 1)"
   ]
  },
  {
   "cell_type": "code",
   "execution_count": 49,
   "metadata": {},
   "outputs": [],
   "source": [
    "# Updating the Continuous and Categorical Variables\n",
    "continuous_vars.remove('Body mass index')\n",
    "continuous_vars.remove('Service time')\n"
   ]
  },
  {
   "cell_type": "code",
   "execution_count": 50,
   "metadata": {},
   "outputs": [],
   "source": [
    "#Make a copy of clean data \n",
    "clean_data = emp_df.copy()\n",
    "#emp_df = clean_data"
   ]
  },
  {
   "cell_type": "code",
   "execution_count": 51,
   "metadata": {},
   "outputs": [],
   "source": [
    "# now let us see anova test for categorical varibles"
   ]
  },
  {
   "cell_type": "code",
   "execution_count": 52,
   "metadata": {},
   "outputs": [],
   "source": [
    "#loop for ANOVA test Since the target variable is continuous\n",
    "from scipy import stats"
   ]
  },
  {
   "cell_type": "code",
   "execution_count": 53,
   "metadata": {},
   "outputs": [
    {
     "name": "stdout",
     "output_type": "stream",
     "text": [
      "P value for variable ID is 5.337729562534981e-173\n",
      "P value for variable Reason for absence is 2.9066452271213244e-275\n",
      "P value for variable Month of absence is 1.9931026466514934e-27\n",
      "P value for variable Day of the week is 0.0008465564341556336\n",
      "P value for variable Seasons is 1.3056677010847954e-41\n",
      "P value for variable Disciplinary failure is 1.5347083529549863e-193\n",
      "P value for variable Education is 4.47678144437648e-110\n",
      "P value for variable Social drinker is 2.6537813380159558e-157\n",
      "P value for variable Social smoker is 5.695644778444439e-192\n",
      "P value for variable Pet is 2.4936440768728218e-132\n",
      "P value for variable Son is 2.0082305982459005e-120\n"
     ]
    }
   ],
   "source": [
    "#loop for ANOVA test Since the target variable is continuous\n",
    "for i in categorical_vars:\n",
    "   f, p = stats.f_oneway(emp_df[i], emp_df[\"Absenteeism time in hours\"])\n",
    "   print(\"P value for variable \"+str(i)+\" is \"+str(p))"
   ]
  },
  {
   "cell_type": "code",
   "execution_count": 54,
   "metadata": {},
   "outputs": [],
   "source": [
    "#we see that reason of absense has valuess less than 0.05, rest all are above 0.05 so we drop all varibles except reason of absense\n",
    "#we want to know loss per month so we are not droping Month of absence"
   ]
  },
  {
   "cell_type": "code",
   "execution_count": 55,
   "metadata": {},
   "outputs": [],
   "source": [
    "emp_df=emp_df.drop(['ID','Seasons','Pet','Son','Social drinker','Day of the week','Disciplinary failure','Education','Social smoker'],axis=1)"
   ]
  },
  {
   "cell_type": "code",
   "execution_count": 56,
   "metadata": {},
   "outputs": [],
   "source": [
    "categorical_vars.remove('ID')\n",
    "categorical_vars.remove('Seasons')\n",
    "categorical_vars.remove('Pet')\n",
    "categorical_vars.remove('Son')\n",
    "categorical_vars.remove('Social drinker')\n",
    "categorical_vars.remove('Day of the week')\n",
    "categorical_vars.remove('Disciplinary failure')\n",
    "categorical_vars.remove('Education')\n",
    "categorical_vars.remove('Social smoker')"
   ]
  },
  {
   "cell_type": "code",
   "execution_count": 57,
   "metadata": {},
   "outputs": [
    {
     "data": {
      "text/html": [
       "<div>\n",
       "<style scoped>\n",
       "    .dataframe tbody tr th:only-of-type {\n",
       "        vertical-align: middle;\n",
       "    }\n",
       "\n",
       "    .dataframe tbody tr th {\n",
       "        vertical-align: top;\n",
       "    }\n",
       "\n",
       "    .dataframe thead th {\n",
       "        text-align: right;\n",
       "    }\n",
       "</style>\n",
       "<table border=\"1\" class=\"dataframe\">\n",
       "  <thead>\n",
       "    <tr style=\"text-align: right;\">\n",
       "      <th></th>\n",
       "      <th>Reason for absence</th>\n",
       "      <th>Month of absence</th>\n",
       "      <th>Transportation expense</th>\n",
       "      <th>Distance from Residence to Work</th>\n",
       "      <th>Age</th>\n",
       "      <th>Work load Average/day</th>\n",
       "      <th>Hit target</th>\n",
       "      <th>Weight</th>\n",
       "      <th>Height</th>\n",
       "      <th>Absenteeism time in hours</th>\n",
       "    </tr>\n",
       "  </thead>\n",
       "  <tbody>\n",
       "    <tr>\n",
       "      <th>0</th>\n",
       "      <td>26.0</td>\n",
       "      <td>7.0</td>\n",
       "      <td>289.0</td>\n",
       "      <td>36.0</td>\n",
       "      <td>33.0</td>\n",
       "      <td>239554.0</td>\n",
       "      <td>97.0</td>\n",
       "      <td>90.0</td>\n",
       "      <td>172.000000</td>\n",
       "      <td>4.000000</td>\n",
       "    </tr>\n",
       "    <tr>\n",
       "      <th>1</th>\n",
       "      <td>0.0</td>\n",
       "      <td>7.0</td>\n",
       "      <td>118.0</td>\n",
       "      <td>13.0</td>\n",
       "      <td>50.0</td>\n",
       "      <td>239554.0</td>\n",
       "      <td>97.0</td>\n",
       "      <td>98.0</td>\n",
       "      <td>170.000009</td>\n",
       "      <td>0.000000</td>\n",
       "    </tr>\n",
       "    <tr>\n",
       "      <th>2</th>\n",
       "      <td>23.0</td>\n",
       "      <td>7.0</td>\n",
       "      <td>179.0</td>\n",
       "      <td>51.0</td>\n",
       "      <td>38.0</td>\n",
       "      <td>239554.0</td>\n",
       "      <td>97.0</td>\n",
       "      <td>89.0</td>\n",
       "      <td>170.000000</td>\n",
       "      <td>2.000000</td>\n",
       "    </tr>\n",
       "    <tr>\n",
       "      <th>3</th>\n",
       "      <td>7.0</td>\n",
       "      <td>7.0</td>\n",
       "      <td>279.0</td>\n",
       "      <td>5.0</td>\n",
       "      <td>39.0</td>\n",
       "      <td>239554.0</td>\n",
       "      <td>97.0</td>\n",
       "      <td>68.0</td>\n",
       "      <td>168.000000</td>\n",
       "      <td>4.000000</td>\n",
       "    </tr>\n",
       "    <tr>\n",
       "      <th>4</th>\n",
       "      <td>23.0</td>\n",
       "      <td>7.0</td>\n",
       "      <td>289.0</td>\n",
       "      <td>36.0</td>\n",
       "      <td>33.0</td>\n",
       "      <td>239554.0</td>\n",
       "      <td>97.0</td>\n",
       "      <td>90.0</td>\n",
       "      <td>172.000000</td>\n",
       "      <td>2.000000</td>\n",
       "    </tr>\n",
       "    <tr>\n",
       "      <th>5</th>\n",
       "      <td>23.0</td>\n",
       "      <td>7.0</td>\n",
       "      <td>179.0</td>\n",
       "      <td>51.0</td>\n",
       "      <td>38.0</td>\n",
       "      <td>239554.0</td>\n",
       "      <td>97.0</td>\n",
       "      <td>89.0</td>\n",
       "      <td>170.000000</td>\n",
       "      <td>2.000010</td>\n",
       "    </tr>\n",
       "    <tr>\n",
       "      <th>6</th>\n",
       "      <td>22.0</td>\n",
       "      <td>7.0</td>\n",
       "      <td>361.0</td>\n",
       "      <td>52.0</td>\n",
       "      <td>28.0</td>\n",
       "      <td>239554.0</td>\n",
       "      <td>97.0</td>\n",
       "      <td>80.0</td>\n",
       "      <td>172.000000</td>\n",
       "      <td>8.000000</td>\n",
       "    </tr>\n",
       "    <tr>\n",
       "      <th>7</th>\n",
       "      <td>23.0</td>\n",
       "      <td>7.0</td>\n",
       "      <td>260.0</td>\n",
       "      <td>50.0</td>\n",
       "      <td>36.0</td>\n",
       "      <td>239554.0</td>\n",
       "      <td>97.0</td>\n",
       "      <td>65.0</td>\n",
       "      <td>168.000000</td>\n",
       "      <td>4.000000</td>\n",
       "    </tr>\n",
       "    <tr>\n",
       "      <th>8</th>\n",
       "      <td>19.0</td>\n",
       "      <td>7.0</td>\n",
       "      <td>155.0</td>\n",
       "      <td>12.0</td>\n",
       "      <td>34.0</td>\n",
       "      <td>239554.0</td>\n",
       "      <td>97.0</td>\n",
       "      <td>95.0</td>\n",
       "      <td>168.978750</td>\n",
       "      <td>3.137931</td>\n",
       "    </tr>\n",
       "    <tr>\n",
       "      <th>9</th>\n",
       "      <td>22.0</td>\n",
       "      <td>7.0</td>\n",
       "      <td>235.0</td>\n",
       "      <td>11.0</td>\n",
       "      <td>37.0</td>\n",
       "      <td>239554.0</td>\n",
       "      <td>97.0</td>\n",
       "      <td>88.0</td>\n",
       "      <td>172.000000</td>\n",
       "      <td>8.000000</td>\n",
       "    </tr>\n",
       "  </tbody>\n",
       "</table>\n",
       "</div>"
      ],
      "text/plain": [
       "   Reason for absence  Month of absence  Transportation expense  \\\n",
       "0                26.0               7.0                   289.0   \n",
       "1                 0.0               7.0                   118.0   \n",
       "2                23.0               7.0                   179.0   \n",
       "3                 7.0               7.0                   279.0   \n",
       "4                23.0               7.0                   289.0   \n",
       "5                23.0               7.0                   179.0   \n",
       "6                22.0               7.0                   361.0   \n",
       "7                23.0               7.0                   260.0   \n",
       "8                19.0               7.0                   155.0   \n",
       "9                22.0               7.0                   235.0   \n",
       "\n",
       "   Distance from Residence to Work   Age  Work load Average/day   Hit target  \\\n",
       "0                             36.0  33.0                239554.0        97.0   \n",
       "1                             13.0  50.0                239554.0        97.0   \n",
       "2                             51.0  38.0                239554.0        97.0   \n",
       "3                              5.0  39.0                239554.0        97.0   \n",
       "4                             36.0  33.0                239554.0        97.0   \n",
       "5                             51.0  38.0                239554.0        97.0   \n",
       "6                             52.0  28.0                239554.0        97.0   \n",
       "7                             50.0  36.0                239554.0        97.0   \n",
       "8                             12.0  34.0                239554.0        97.0   \n",
       "9                             11.0  37.0                239554.0        97.0   \n",
       "\n",
       "   Weight      Height  Absenteeism time in hours  \n",
       "0    90.0  172.000000                   4.000000  \n",
       "1    98.0  170.000009                   0.000000  \n",
       "2    89.0  170.000000                   2.000000  \n",
       "3    68.0  168.000000                   4.000000  \n",
       "4    90.0  172.000000                   2.000000  \n",
       "5    89.0  170.000000                   2.000010  \n",
       "6    80.0  172.000000                   8.000000  \n",
       "7    65.0  168.000000                   4.000000  \n",
       "8    95.0  168.978750                   3.137931  \n",
       "9    88.0  172.000000                   8.000000  "
      ]
     },
     "execution_count": 57,
     "metadata": {},
     "output_type": "execute_result"
    }
   ],
   "source": [
    "emp_df.head(10)"
   ]
  },
  {
   "cell_type": "markdown",
   "metadata": {},
   "source": [
    "Feature Scaling"
   ]
  },
  {
   "cell_type": "code",
   "execution_count": 58,
   "metadata": {},
   "outputs": [
    {
     "data": {
      "image/png": "[encoded data removed]",
      "text/plain": [
       "<Figure size 1008x288 with 9 Axes>"
      ]
     },
     "metadata": {
      "needs_background": "light"
     },
     "output_type": "display_data"
    }
   ],
   "source": [
    "#we see that the data is skewed\n",
    "#Scaling for Continious variable \n",
    "plt.figure(figsize=(14,4))\n",
    "\n",
    "plt.subplot(3,3,1)\n",
    "sns.distplot(emp_df['Transportation expense'])\n",
    "plt.title('Transportation expense')\n",
    "\n",
    "plt.subplot(3,3,2)\n",
    "sns.distplot(emp_df['Distance from Residence to Work'])\n",
    "plt.title('Distance from Residence to Work')\n",
    "\n",
    "plt.subplot(3,3,3)\n",
    "sns.distplot(emp_df['Work load Average/day '])\n",
    "plt.title('Work load Average/day')\n",
    "\n",
    "plt.subplot(3,3,4)\n",
    "sns.distplot(emp_df['Hit target'])\n",
    "plt.title('Hit target')\n",
    "                  \n",
    "plt.subplot(3,3,5)\n",
    "sns.distplot(emp_df['Age'])\n",
    "plt.title('Age')\n",
    "                \n",
    "plt.subplot(3,3,6)\n",
    "sns.distplot(emp_df['Month of absence'])\n",
    "plt.title('Month of absence')\n",
    "\n",
    "plt.subplot(3,3,7)\n",
    "sns.distplot(emp_df['Reason for absence'])\n",
    "plt.title('Reason for absence')\n",
    "                  \n",
    "plt.subplot(3,3,8)\n",
    "sns.distplot(emp_df['Weight'])\n",
    "plt.title('Weight')\n",
    "                  \n",
    "plt.subplot(3,3,9)\n",
    "sns.distplot(emp_df['Height'])\n",
    "plt.title('Height')                  \n",
    "                  \n",
    "\n",
    "plt.tight_layout()"
   ]
  },
  {
   "cell_type": "code",
   "execution_count": 59,
   "metadata": {},
   "outputs": [],
   "source": [
    "#Normalization of continuous variables\n",
    "for i in continuous_vars:\n",
    "    if i == 'Absenteeism time in hours':\n",
    "        continue\n",
    "    emp_df[i] = (emp_df[i] - emp_df[i].min())/(emp_df[i].max()-emp_df[i].min())"
   ]
  },
  {
   "cell_type": "code",
   "execution_count": 60,
   "metadata": {},
   "outputs": [],
   "source": [
    "#Create dummy variables of factor variables\n",
    "emp_df = pd.get_dummies(data = emp_df, columns = categorical_vars)\n",
    "\n",
    "# Copying dataframe\n",
    "df1 = emp_df.copy()"
   ]
  },
  {
   "cell_type": "markdown",
   "metadata": {},
   "source": [
    "Modelling"
   ]
  },
  {
   "cell_type": "code",
   "execution_count": 61,
   "metadata": {},
   "outputs": [],
   "source": [
    "#Splitting data into train and test data\n",
    "from sklearn.model_selection import train_test_split\n",
    "X_train, X_test, y_train, y_test = train_test_split( emp_df.iloc[:, emp_df.columns != 'Absenteeism time in hours'],emp_df.iloc[:, 8], test_size = 0.20, random_state = 1)"
   ]
  },
  {
   "cell_type": "markdown",
   "metadata": {},
   "source": [
    "Decison Tree"
   ]
  },
  {
   "cell_type": "code",
   "execution_count": 62,
   "metadata": {},
   "outputs": [
    {
     "name": "stdout",
     "output_type": "stream",
     "text": [
      "     actual  pred\n",
      "681       0   0.0\n",
      "257       0   0.0\n",
      "527       0   0.0\n",
      "637       0   0.0\n",
      "429       0   0.0\n",
      "Root Mean Squared Error: 0.0\n",
      "R^2 Score(coefficient of determination) = 1.0\n"
     ]
    }
   ],
   "source": [
    "# Importing libraries for Decision Tree \n",
    "from sklearn.tree import DecisionTreeRegressor\n",
    "\n",
    "#Build decsion tree using DecisionTreeRegressor\n",
    "dt_model = DecisionTreeRegressor(random_state = 1).fit(X_train,y_train)\n",
    "\n",
    "#Perdict for test cases\n",
    "dt_predictions = dt_model.predict(X_test)\n",
    "\n",
    "#Create data frame for actual and predicted values\n",
    "df_dt = pd.DataFrame({'actual': y_test, 'pred': dt_predictions})\n",
    "print(df_dt.head())\n",
    "\n",
    "#Define function to calculate RMSE\n",
    "def RMSE(y_actual,y_predicted):\n",
    "    rmse = np.sqrt(mean_squared_error(y_actual,y_predicted))\n",
    "    return rmse\n",
    "\n",
    "#Calculate RMSE and R-squared value\n",
    "print(\"Root Mean Squared Error: \"+str(RMSE(y_test, dt_predictions)))\n",
    "print(\"R^2 Score(coefficient of determination) = \"+str(r2_score(y_test, dt_predictions)))"
   ]
  },
  {
   "cell_type": "code",
   "execution_count": 63,
   "metadata": {},
   "outputs": [
    {
     "name": "stdout",
     "output_type": "stream",
     "text": [
      "     actual  pred\n",
      "681       0   0.0\n",
      "257       0   0.0\n",
      "527       0   0.0\n",
      "637       0   0.0\n",
      "429       0   0.0\n",
      "Root Mean Squared Error: 0.0\n",
      "R^2 Score(coefficient of determination) = 1.0\n"
     ]
    }
   ],
   "source": [
    "# Importing libraries for Random Forest\n",
    "from sklearn.ensemble import RandomForestRegressor\n",
    "\n",
    "#Build random forest using RandomForestRegressor\n",
    "rf_model = RandomForestRegressor(n_estimators = 500, random_state = 1).fit(X_train,y_train)\n",
    "\n",
    "#Perdict for test cases\n",
    "rf_predictions = rf_model.predict(X_test)\n",
    "\n",
    "#Create data frame for actual and predicted values\n",
    "df_rf = pd.DataFrame({'actual': y_test, 'pred': rf_predictions})\n",
    "print(df_rf.head())\n",
    "\n",
    "#Calculate RMSE and R-squared value\n",
    "print(\"Root Mean Squared Error: \"+str(RMSE(y_test, rf_predictions)))\n",
    "print(\"R^2 Score(coefficient of determination) = \"+str(r2_score(y_test, rf_predictions)))"
   ]
  },
  {
   "cell_type": "code",
   "execution_count": 64,
   "metadata": {},
   "outputs": [
    {
     "name": "stdout",
     "output_type": "stream",
     "text": [
      "     actual          pred\n",
      "681       0  2.081668e-17\n",
      "257       0 -3.955170e-16\n",
      "527       0  9.714451e-17\n",
      "637       0  6.245005e-17\n",
      "429       0  1.040834e-16\n",
      "Root Mean Squared Error: 0.0038079261546397607\n",
      "R^2 Score(coefficient of determination) = 0.9995557837675124\n"
     ]
    }
   ],
   "source": [
    "# Importing libraries for Linear Regression\n",
    "from sklearn.linear_model import LinearRegression\n",
    "\n",
    "#Train the model\n",
    "lr_model = LinearRegression().fit(X_train , y_train)\n",
    "\n",
    "#Perdict for test cases\n",
    "lr_predictions = lr_model.predict(X_test)\n",
    "\n",
    "#Create data frame for actual and predicted values\n",
    "df_lr = pd.DataFrame({'actual': y_test, 'pred': lr_predictions})\n",
    "print(df_lr.head())\n",
    "\n",
    "#Calculate RMSE and R-squared value\n",
    "print(\"Root Mean Squared Error: \"+str(RMSE(y_test, lr_predictions)))\n",
    "print(\"R^2 Score(coefficient of determination) = \"+str(r2_score(y_test, lr_predictions)))"
   ]
  },
  {
   "cell_type": "code",
   "execution_count": 65,
   "metadata": {},
   "outputs": [],
   "source": [
    "#Get the target variable\n",
    "target = emp_df['Absenteeism time in hours']"
   ]
  },
  {
   "cell_type": "code",
   "execution_count": 66,
   "metadata": {},
   "outputs": [
    {
     "data": {
      "text/plain": [
       "(740, 54)"
      ]
     },
     "execution_count": 66,
     "metadata": {},
     "output_type": "execute_result"
    }
   ],
   "source": [
    "#Get the number of rows and columns of data\n",
    "emp_df.shape"
   ]
  },
  {
   "cell_type": "code",
   "execution_count": 67,
   "metadata": {},
   "outputs": [
    {
     "data": {
      "image/png": "[encoded data removed]",
      "text/plain": [
       "<Figure size 1008x288 with 1 Axes>"
      ]
     },
     "metadata": {
      "needs_background": "light"
     },
     "output_type": "display_data"
    }
   ],
   "source": [
    "#Import library for PCA\n",
    "from sklearn.decomposition import PCA\n",
    "\n",
    "plt.figure(figsize=(14,4))\n",
    "#Converting data to numpy array\n",
    "X = emp_df.values\n",
    "\n",
    "#Data has 54 variables so no of components of PCA = 53\n",
    "pca = PCA(n_components=53)\n",
    "pca.fit(X)\n",
    "\n",
    "#Proportion of variance explained\n",
    "var= pca.explained_variance_ratio_\n",
    "\n",
    "#Cumulative scree plot\n",
    "var1=np.cumsum(np.round(pca.explained_variance_ratio_, decimals=4)*100)\n",
    "\n",
    "#Draw the plot\n",
    "plt.plot(var1)\n",
    "plt.show()"
   ]
  },
  {
   "cell_type": "code",
   "execution_count": 68,
   "metadata": {},
   "outputs": [],
   "source": [
    "#Selecting 20 components since it explains almost 95+ % data variance\n",
    "pca = PCA(n_components=20)\n",
    "\n",
    "#Fitting the selected components to the data\n",
    "pca.fit(X)\n",
    "\n",
    "#Splitting data into train and test data\n",
    "X_train, X_test, y_train, y_test = train_test_split(X,target, test_size=0.2, random_state = 1)"
   ]
  },
  {
   "cell_type": "code",
   "execution_count": 69,
   "metadata": {},
   "outputs": [
    {
     "name": "stdout",
     "output_type": "stream",
     "text": [
      "     actual  pred\n",
      "681     8.0   8.0\n",
      "257     2.0   2.0\n",
      "527     8.0   8.0\n",
      "637     8.0   8.0\n",
      "429     4.0   4.0\n",
      "Root Mean Squared Error: 0.03314443040693673\n",
      "R^2 Score(coefficient of determination) = 0.9999045189964426\n"
     ]
    }
   ],
   "source": [
    "#Build decsion tree using DecisionTreeRegressor\n",
    "dt_model = DecisionTreeRegressor(random_state = 1).fit(X_train,y_train)\n",
    "\n",
    "#Perdict for test cases\n",
    "dt_predictions = dt_model.predict(X_test)\n",
    "\n",
    "#Create data frame for actual and predicted values\n",
    "df_dt = pd.DataFrame({'actual': y_test, 'pred': dt_predictions})\n",
    "print(df_dt.head())\n",
    "\n",
    "#Calculate RMSE and R-squared value\n",
    "print(\"Root Mean Squared Error: \"+str(RMSE(y_test, dt_predictions)))\n",
    "print(\"R^2 Score(coefficient of determination) = \"+str(r2_score(y_test, dt_predictions)))"
   ]
  },
  {
   "cell_type": "code",
   "execution_count": 70,
   "metadata": {},
   "outputs": [
    {
     "name": "stdout",
     "output_type": "stream",
     "text": [
      "     actual      pred\n",
      "681     8.0  8.000000\n",
      "257     2.0  1.999594\n",
      "527     8.0  8.000000\n",
      "637     8.0  8.000000\n",
      "429     4.0  4.000967\n",
      "Root Mean Squared Error: 0.036011275951722294\n",
      "R^2 Score(coefficient of determination) = 0.9998872872945797\n"
     ]
    }
   ],
   "source": [
    "#Build random forest using RandomForestRegressor\n",
    "rf_model = RandomForestRegressor(n_estimators = 500, random_state = 1).fit(X_train,y_train)\n",
    "\n",
    "#Perdict for test cases\n",
    "rf_predictions = rf_model.predict(X_test)\n",
    "\n",
    "#Create data frame for actual and predicted values\n",
    "df_rf = pd.DataFrame({'actual': y_test, 'pred': rf_predictions})\n",
    "print(df_rf.head())\n",
    "\n",
    "#Calculate RMSE and R-squared value\n",
    "print(\"Root Mean Squared Error: \"+str(RMSE(y_test, rf_predictions)))\n",
    "print(\"R^2 Score(coefficient of determination) = \"+str(r2_score(y_test, rf_predictions)))"
   ]
  },
  {
   "cell_type": "code",
   "execution_count": 71,
   "metadata": {},
   "outputs": [
    {
     "name": "stdout",
     "output_type": "stream",
     "text": [
      "     actual  pred\n",
      "681     8.0   8.0\n",
      "257     2.0   2.0\n",
      "527     8.0   8.0\n",
      "637     8.0   8.0\n",
      "429     4.0   4.0\n",
      "Root Mean Squared Error: 1.245334435598563e-15\n",
      "R^2 Score(coefficient of determination) = 1.0\n"
     ]
    }
   ],
   "source": [
    "# Importing libraries for Linear Regression\n",
    "from sklearn.linear_model import LinearRegression\n",
    "\n",
    "#Train the model\n",
    "lr_model = LinearRegression().fit(X_train , y_train)\n",
    "\n",
    "#Perdict for test cases\n",
    "lr_predictions = lr_model.predict(X_test)\n",
    "\n",
    "#Create data frame for actual and predicted values\n",
    "df_lr = pd.DataFrame({'actual': y_test, 'pred': lr_predictions})\n",
    "print(df_lr.head())\n",
    "\n",
    "#Calculate RMSE and R-squared value\n",
    "print(\"Root Mean Squared Error: \"+str(RMSE(y_test, lr_predictions)))\n",
    "print(\"R^2 Score(coefficient of determination) = \"+str(r2_score(y_test, lr_predictions)))"
   ]
  },
  {
   "cell_type": "code",
   "execution_count": null,
   "metadata": {},
   "outputs": [],
   "source": []
  },
  {
   "cell_type": "code",
   "execution_count": null,
   "metadata": {},
   "outputs": [],
   "source": []
  }
 ],
 "metadata": {
  "kernelspec": {
   "display_name": "Python 3",
   "language": "python",
   "name": "python3"
  },
  "language_info": {
   "codemirror_mode": {
    "name": "ipython",
    "version": 3
   },
   "file_extension": ".py",
   "mimetype": "text/x-python",
   "name": "python",
   "nbconvert_exporter": "python",
   "pygments_lexer": "ipython3",
   "version": "3.6.7"
  }
 },
 "nbformat": 4,
 "nbformat_minor": 2
}
